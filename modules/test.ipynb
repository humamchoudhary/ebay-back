{
 "cells": [
  {
   "cell_type": "code",
   "execution_count": 1,
   "metadata": {},
   "outputs": [],
   "source": [
    "from chat import createChat,sendchatUser,sendchatAdmin,getUserChats,getChat"
   ]
  },
  {
   "cell_type": "code",
   "execution_count": null,
   "metadata": {},
   "outputs": [],
   "source": []
  },
  {
   "cell_type": "code",
   "execution_count": 3,
   "metadata": {},
   "outputs": [
    {
     "data": {
      "text/plain": [
       "{'_id': ObjectId('656a1e91da10ca561e35ef67'),\n",
       " 'userId': '65526e887bd14c16c1c19561',\n",
       " 'priority': 2,\n",
       " 'status': 'active',\n",
       " 'subject': 'test',\n",
       " 'chat': [{'sender': '123123',\n",
       "   'message': 'Test Message',\n",
       "   'timesent': datetime.datetime(2023, 12, 1, 23, 22, 38, 848000)},\n",
       "  {'sender': '123123',\n",
       "   'message': 'Test Message',\n",
       "   'timesent': datetime.datetime(2023, 12, 1, 23, 22, 39, 132000)},\n",
       "  {'sender': 'admin123',\n",
       "   'message': 'Test Message',\n",
       "   'timesent': datetime.datetime(2023, 12, 1, 23, 22, 40, 255000)}]}"
      ]
     },
     "execution_count": 3,
     "metadata": {},
     "output_type": "execute_result"
    }
   ],
   "source": [
    "getChat(\"656a1e91da10ca561e35ef67\")"
   ]
  },
  {
   "cell_type": "code",
   "execution_count": null,
   "metadata": {},
   "outputs": [],
   "source": [
    "x = createChat(\"65526e887bd14c16c1c19561\", \"test\", 2)\n",
    "str(x)"
   ]
  },
  {
   "cell_type": "code",
   "execution_count": 5,
   "metadata": {},
   "outputs": [],
   "source": [
    "sendchatUser(\"123123\", \"Test Message\", \"656a1e91da10ca561e35ef67\")"
   ]
  },
  {
   "cell_type": "code",
   "execution_count": 6,
   "metadata": {},
   "outputs": [],
   "source": [
    "sendchatAdmin(\"admin123\", \"Test Message\", \"656a1e91da10ca561e35ef67\")"
   ]
  },
  {
   "cell_type": "code",
   "execution_count": null,
   "metadata": {},
   "outputs": [],
   "source": [
    "from user_helpers import get_username,get_adminname\n",
    "\n",
    "get_adminname(\"656333f5ed5540141c7924d1\",\"developer\")"
   ]
  },
  {
   "cell_type": "code",
   "execution_count": null,
   "metadata": {},
   "outputs": [],
   "source": []
  }
 ],
 "metadata": {
  "kernelspec": {
   "display_name": "env",
   "language": "python",
   "name": "python3"
  },
  "language_info": {
   "codemirror_mode": {
    "name": "ipython",
    "version": 3
   },
   "file_extension": ".py",
   "mimetype": "text/x-python",
   "name": "python",
   "nbconvert_exporter": "python",
   "pygments_lexer": "ipython3",
   "version": "3.11.4"
  }
 },
 "nbformat": 4,
 "nbformat_minor": 2
}
